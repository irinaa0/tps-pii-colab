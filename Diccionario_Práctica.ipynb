{
  "nbformat": 4,
  "nbformat_minor": 0,
  "metadata": {
    "colab": {
      "provenance": [],
      "include_colab_link": true
    },
    "kernelspec": {
      "name": "python3",
      "display_name": "Python 3"
    },
    "language_info": {
      "name": "python"
    }
  },
  "cells": [
    {
      "cell_type": "markdown",
      "metadata": {
        "id": "view-in-github",
        "colab_type": "text"
      },
      "source": [
        "<a href=\"https://colab.research.google.com/github/irinaa0/tps-pii-colab/blob/main/Diccionario_Pr%C3%A1ctica.ipynb\" target=\"_parent\"><img src=\"https://colab.research.google.com/assets/colab-badge.svg\" alt=\"Open In Colab\"/></a>"
      ]
    },
    {
      "cell_type": "code",
      "execution_count": 1,
      "metadata": {
        "id": "8VOD-zpMJovw"
      },
      "outputs": [],
      "source": [
        "# Listas de alumnos\n",
        "estudiantes_5d = [\n",
        "   (\"Alurralde, Solange Stefania\",\"D\",\"02/04/2007\"),\n",
        "   (\"Alvarado, Ludmila Del Milagro\",\"D\",\"06/09/2006\"),\n",
        "   (\"Angel, Camila Juliana\",\"D\",\"07/03/2007\"),\n",
        "   (\"Arenas, Lucas Gabriel\",\"D\",\"26/06/2007\"),\n",
        "   (\"Caseres, Maria Antonia\",\"D\",\"01/07/2006\"),\n",
        "   (\"Castillo, Paulina Milagros\",\"D\",\"01/06/2007\"),\n",
        "   (\"Correa Segovia, Hugo Mariano\",\"D\",\"04/12/2006\"),\n",
        "   (\"D Elia, Alvaro Tadeo\",\"D\",\"27/08/2006\"),\n",
        "   (\"Flores, Victoria Agustina\",\"D\",\"12/12/2006\"),\n",
        "   (\"Geronimo Soriano, Lizzie Amaya\",\"D\",\"20/01/2007\"),\n",
        "   (\"GUZMAN, ANGÉLICA MORENA\",\"D\",\"11/04/2007\"),\n",
        "   (\"Guzman, Jazmin Esmeralda Belen\",\"D\",\"31/07/2006\"),\n",
        "   (\"Jaime, Anita Maria Belen\",\"D\",\"19/04/2007\"),\n",
        "   (\"Lacour Polo, Nazarena\",\"D\",\"19/12/2005\"),\n",
        "   (\"Lascano Guanca, Marcelo Fabricio\",\"D\",\"17/02/2006\"),\n",
        "   (\"Lezcano, Celia Morena\",\"D\",\"01/07/2005\"),\n",
        "   (\"Martinez, Tomas Andres\",\"D\",\"22/03/2007\"),\n",
        "   (\"PORTELLA VALDIVIA, PEDRO FRANCISCO\",\"D\",\"24/01/2007\"),\n",
        "   (\"Retamal Cisneros, Zacarias Josue\",\"D\",\"24/02/2007\"),\n",
        "   (\"Rosales, Francisco Gabriel\",\"D\",\"14/11/2006\"),\n",
        "   (\"Salem Barba, Mahia\",\"D\",\"14/10/2005\"),\n",
        "   (\"Soto Camara, Agustin Ignacio\",\"D\",\"07/11/2005\"),\n",
        "   (\"Villalba, Irina\",\"D\",\"09/09/2006\"),\n",
        "   (\"Voltolini, Emanuel Tobias\",\"D\",\"17/09/2006\"),\n",
        "   (\"Zalazar, Santino Stefano\",\"D\",\"30/09/2006\")\n",
        "]\n",
        "\n",
        "estudiantes_5c=[\n",
        "    (\"ABUD LASPIUR, LOURDES MARIEL\",\"C\",\"05/12/2006\"),\n",
        "    (\"Amador, Luana Micaela\",\"C\",\"09/12/2006\"),\n",
        "    (\"Anaquin, Leonardo Ezequiel\",\"C\",\"06/09/2005\"),\n",
        "    (\"Araoz Sanchez, Lautaro Nahuel\",\"C\",\"28/12/2005\"),\n",
        "    (\"Argañaraz, Agostina Abril\",\"C\",\"11/10/2006\"),\n",
        "    (\"Barrera, Matias Ezequiel\",\"C\",\"27/02/2007\"),\n",
        "    (\"Barrozo Vedia, Joaquin Nicolas\",\"C\",\"15/04/2006\"),\n",
        "    (\"Bettinelli, Valentino\",\"C\",\"12/07/2006\"),\n",
        "    (\"Bracamonte Martinez, Salvador\",\"C\",\"02/11/2005\"),\n",
        "    (\"Colque Rivero, Ariana Zoe Del Valle\",\"C\",\"27/12/2006\"),\n",
        "    (\"Diaz, Dulce Maitena\",\"C\",\"11/12/2006\"),\n",
        "    (\"FIGUEROA, SANTINO JOSUE\",\"C\",\"12/05/2007\"),\n",
        "    (\"Flores Cardozo, Agustina Tiara\",\"C\",\"18/03/2006\"),\n",
        "    (\"Gallo, Octavio Ismael\",\"C\",\"04/08/2006\"),\n",
        "    (\"Galvan, Lourdes Yamila\",\"C\",\"19/08/2005\"),\n",
        "    (\"Giangreco, Vitto Tomasso\",\"C\",\"21/03/2007\"),\n",
        "    (\"Grancara, Martina Luna\",\"C\",\"15/12/2006\"),\n",
        "    (\"Guanca, Sara Elizabeth\",\"C\",\"17/01/2007\"),\n",
        "    (\"Lopez, Victoria Constanza\",\"C\",\"12/11/2007\"),\n",
        "    (\"Mamani Garrido, Rosario Agostina\",\"C\",\"24/10/2006\"),\n",
        "    (\"Marinaro, Martin Ezequiel\",\"C\",\"03/11/2006\"),\n",
        "    (\"Merluzzi Dagum, Ignacio\",\"C\",\"22/12/2005\"),\n",
        "    (\"Messina, Martina\",\"C\",\"13/07/2005\"),\n",
        "    (\"RASUK, KARIM\", \"C\",\"13/07/2007\"),\n",
        "    (\"Rios, Lucia Magali\",\"C\",\"22/09/2006\"),\n",
        "    (\"Sanchez Flores, Matías Agustín\",\"C\",\"15/02/2007\"),\n",
        "    (\"Scarano, Renato Marcelo\",\"C\",\"06/12/2006\"),\n",
        "    (\"Sierra, Lucas Mauricio\",\"C\",\"03/04/2005\"),\n",
        "    (\"Tapia, Martin Gabriel\",\"C\",\"30/05/2006\"),\n",
        "    (\"Vilte, Mia Antonella Alondra\",\"C\",\"10/09/2005\"),\n",
        "    (\"Virgillito, Katya Milena\",\"C\",\"19/06/2007\")\n",
        "]"
      ]
    },
    {
      "cell_type": "markdown",
      "source": [
        "## Dada la lista estudiantes:\n",
        "> - Hacer una celda para resolver cada punto.\n",
        "- El TP resuelto será revisado en tu repositorio, no es necesario que lo envíes, pero sí que lo pushees correctamente.\n",
        "- En la nota inicial se contempla:\n",
        "  - La incorporación de este documento a tu propio respositorio.\n",
        "  - El pusheo de los cambios realizados.\n",
        "  - La resolución de los ejercicios propuestos.\n"
      ],
      "metadata": {
        "id": "rd6Ug6v3J4uN"
      }
    },
    {
      "cell_type": "markdown",
      "source": [
        "1. Reemplaza todos los valores del nombre por los que obtengas del método title(). De esta manera las listas quedaran con los datos más homogéneos."
      ],
      "metadata": {
        "id": "wRLng-uURyJ3"
      }
    },
    {
      "cell_type": "code",
      "source": [
        "estudiantes = []\n",
        "estudiantes.extend(estudiantes_5c)\n",
        "estudiantes.extend(estudiantes_5d)\n",
        "for i in range(len(estudiantes)):\n",
        "  nombre, divisor, fecha_nac = estudiantes[i]\n",
        "  nombre = nombre.title()\n",
        "  estudiantes[i] = nombre, divisor, fecha_nac\n",
        "for estudiante in estudiantes:\n",
        "  print(estudiante)"
      ],
      "metadata": {
        "colab": {
          "base_uri": "https://localhost:8080/"
        },
        "id": "bpPMshqi8I3h",
        "outputId": "55943338-1ce7-4456-9c3d-d53144727a09"
      },
      "execution_count": 14,
      "outputs": [
        {
          "output_type": "stream",
          "name": "stdout",
          "text": [
            "('Abud Laspiur, Lourdes Mariel', 'C', '05/12/2006')\n",
            "('Amador, Luana Micaela', 'C', '09/12/2006')\n",
            "('Anaquin, Leonardo Ezequiel', 'C', '06/09/2005')\n",
            "('Araoz Sanchez, Lautaro Nahuel', 'C', '28/12/2005')\n",
            "('Argañaraz, Agostina Abril', 'C', '11/10/2006')\n",
            "('Barrera, Matias Ezequiel', 'C', '27/02/2007')\n",
            "('Barrozo Vedia, Joaquin Nicolas', 'C', '15/04/2006')\n",
            "('Bettinelli, Valentino', 'C', '12/07/2006')\n",
            "('Bracamonte Martinez, Salvador', 'C', '02/11/2005')\n",
            "('Colque Rivero, Ariana Zoe Del Valle', 'C', '27/12/2006')\n",
            "('Diaz, Dulce Maitena', 'C', '11/12/2006')\n",
            "('Figueroa, Santino Josue', 'C', '12/05/2007')\n",
            "('Flores Cardozo, Agustina Tiara', 'C', '18/03/2006')\n",
            "('Gallo, Octavio Ismael', 'C', '04/08/2006')\n",
            "('Galvan, Lourdes Yamila', 'C', '19/08/2005')\n",
            "('Giangreco, Vitto Tomasso', 'C', '21/03/2007')\n",
            "('Grancara, Martina Luna', 'C', '15/12/2006')\n",
            "('Guanca, Sara Elizabeth', 'C', '17/01/2007')\n",
            "('Lopez, Victoria Constanza', 'C', '12/11/2007')\n",
            "('Mamani Garrido, Rosario Agostina', 'C', '24/10/2006')\n",
            "('Marinaro, Martin Ezequiel', 'C', '03/11/2006')\n",
            "('Merluzzi Dagum, Ignacio', 'C', '22/12/2005')\n",
            "('Messina, Martina', 'C', '13/07/2005')\n",
            "('Rasuk, Karim', 'C', '13/07/2007')\n",
            "('Rios, Lucia Magali', 'C', '22/09/2006')\n",
            "('Sanchez Flores, Matías Agustín', 'C', '15/02/2007')\n",
            "('Scarano, Renato Marcelo', 'C', '06/12/2006')\n",
            "('Sierra, Lucas Mauricio', 'C', '03/04/2005')\n",
            "('Tapia, Martin Gabriel', 'C', '30/05/2006')\n",
            "('Vilte, Mia Antonella Alondra', 'C', '10/09/2005')\n",
            "('Virgillito, Katya Milena', 'C', '19/06/2007')\n",
            "('Alurralde, Solange Stefania', 'D', '02/04/2007')\n",
            "('Alvarado, Ludmila Del Milagro', 'D', '06/09/2006')\n",
            "('Angel, Camila Juliana', 'D', '07/03/2007')\n",
            "('Arenas, Lucas Gabriel', 'D', '26/06/2007')\n",
            "('Caseres, Maria Antonia', 'D', '01/07/2006')\n",
            "('Castillo, Paulina Milagros', 'D', '01/06/2007')\n",
            "('Correa Segovia, Hugo Mariano', 'D', '04/12/2006')\n",
            "('D Elia, Alvaro Tadeo', 'D', '27/08/2006')\n",
            "('Flores, Victoria Agustina', 'D', '12/12/2006')\n",
            "('Geronimo Soriano, Lizzie Amaya', 'D', '20/01/2007')\n",
            "('Guzman, Angélica Morena', 'D', '11/04/2007')\n",
            "('Guzman, Jazmin Esmeralda Belen', 'D', '31/07/2006')\n",
            "('Jaime, Anita Maria Belen', 'D', '19/04/2007')\n",
            "('Lacour Polo, Nazarena', 'D', '19/12/2005')\n",
            "('Lascano Guanca, Marcelo Fabricio', 'D', '17/02/2006')\n",
            "('Lezcano, Celia Morena', 'D', '01/07/2005')\n",
            "('Martinez, Tomas Andres', 'D', '22/03/2007')\n",
            "('Portella Valdivia, Pedro Francisco', 'D', '24/01/2007')\n",
            "('Retamal Cisneros, Zacarias Josue', 'D', '24/02/2007')\n",
            "('Rosales, Francisco Gabriel', 'D', '14/11/2006')\n",
            "('Salem Barba, Mahia', 'D', '14/10/2005')\n",
            "('Soto Camara, Agustin Ignacio', 'D', '07/11/2005')\n",
            "('Villalba, Irina', 'D', '09/09/2006')\n",
            "('Voltolini, Emanuel Tobias', 'D', '17/09/2006')\n",
            "('Zalazar, Santino Stefano', 'D', '30/09/2006')\n"
          ]
        }
      ]
    },
    {
      "cell_type": "markdown",
      "source": [
        "2. Genera una lista de diccionarios con los datos de las listas, donde las claves de los mismos serán:\n",
        "- \"apellido\"\n",
        "- \"nombre\"\n",
        "- \"curso\"\n",
        "- \"division\"\n",
        "- \"feha_de_nacimiento\"\n",
        "\n",
        "Muestra la información generada."
      ],
      "metadata": {
        "id": "dYEGkYZyLy9I"
      }
    },
    {
      "cell_type": "code",
      "source": [
        "lista_diccionarios = []\n",
        "for estudiante in estudiantes:\n",
        "   un_estudiante ={}\n",
        "   nombre_y_apellido, division, fecha_nac = estudiante\n",
        "   apellido,nombre = nombre_y_apellido.split(\",\")\n",
        "   nombre = nombre.lstrip()\n",
        "   un_estudiante[\"apellido\"]=apellido\n",
        "   un_estudiante[\"nombre\"]=nombre\n",
        "   un_estudiante[\"curso\"]=5\n",
        "   un_estudiante[\"division\"]=division\n",
        "   un_estudiante[\"fecha_de_nacimiento\"]=fecha_nac\n",
        "   lista_diccionarios.append(un_estudiante)\n",
        "\n",
        "for estudiante in lista_diccionarios:\n",
        "   print(estudiante)"
      ],
      "metadata": {
        "colab": {
          "base_uri": "https://localhost:8080/"
        },
        "id": "tdiJc8c28Ol2",
        "outputId": "149184d6-7fd8-4ec8-ee91-53e766368f8e"
      },
      "execution_count": 15,
      "outputs": [
        {
          "output_type": "stream",
          "name": "stdout",
          "text": [
            "{'apellido': 'Abud Laspiur', 'nombre': 'Lourdes Mariel', 'curso': 5, 'division': 'C', 'fecha_de_nacimiento': '05/12/2006'}\n",
            "{'apellido': 'Amador', 'nombre': 'Luana Micaela', 'curso': 5, 'division': 'C', 'fecha_de_nacimiento': '09/12/2006'}\n",
            "{'apellido': 'Anaquin', 'nombre': 'Leonardo Ezequiel', 'curso': 5, 'division': 'C', 'fecha_de_nacimiento': '06/09/2005'}\n",
            "{'apellido': 'Araoz Sanchez', 'nombre': 'Lautaro Nahuel', 'curso': 5, 'division': 'C', 'fecha_de_nacimiento': '28/12/2005'}\n",
            "{'apellido': 'Argañaraz', 'nombre': 'Agostina Abril', 'curso': 5, 'division': 'C', 'fecha_de_nacimiento': '11/10/2006'}\n",
            "{'apellido': 'Barrera', 'nombre': 'Matias Ezequiel', 'curso': 5, 'division': 'C', 'fecha_de_nacimiento': '27/02/2007'}\n",
            "{'apellido': 'Barrozo Vedia', 'nombre': 'Joaquin Nicolas', 'curso': 5, 'division': 'C', 'fecha_de_nacimiento': '15/04/2006'}\n",
            "{'apellido': 'Bettinelli', 'nombre': 'Valentino', 'curso': 5, 'division': 'C', 'fecha_de_nacimiento': '12/07/2006'}\n",
            "{'apellido': 'Bracamonte Martinez', 'nombre': 'Salvador', 'curso': 5, 'division': 'C', 'fecha_de_nacimiento': '02/11/2005'}\n",
            "{'apellido': 'Colque Rivero', 'nombre': 'Ariana Zoe Del Valle', 'curso': 5, 'division': 'C', 'fecha_de_nacimiento': '27/12/2006'}\n",
            "{'apellido': 'Diaz', 'nombre': 'Dulce Maitena', 'curso': 5, 'division': 'C', 'fecha_de_nacimiento': '11/12/2006'}\n",
            "{'apellido': 'Figueroa', 'nombre': 'Santino Josue', 'curso': 5, 'division': 'C', 'fecha_de_nacimiento': '12/05/2007'}\n",
            "{'apellido': 'Flores Cardozo', 'nombre': 'Agustina Tiara', 'curso': 5, 'division': 'C', 'fecha_de_nacimiento': '18/03/2006'}\n",
            "{'apellido': 'Gallo', 'nombre': 'Octavio Ismael', 'curso': 5, 'division': 'C', 'fecha_de_nacimiento': '04/08/2006'}\n",
            "{'apellido': 'Galvan', 'nombre': 'Lourdes Yamila', 'curso': 5, 'division': 'C', 'fecha_de_nacimiento': '19/08/2005'}\n",
            "{'apellido': 'Giangreco', 'nombre': 'Vitto Tomasso', 'curso': 5, 'division': 'C', 'fecha_de_nacimiento': '21/03/2007'}\n",
            "{'apellido': 'Grancara', 'nombre': 'Martina Luna', 'curso': 5, 'division': 'C', 'fecha_de_nacimiento': '15/12/2006'}\n",
            "{'apellido': 'Guanca', 'nombre': 'Sara Elizabeth', 'curso': 5, 'division': 'C', 'fecha_de_nacimiento': '17/01/2007'}\n",
            "{'apellido': 'Lopez', 'nombre': 'Victoria Constanza', 'curso': 5, 'division': 'C', 'fecha_de_nacimiento': '12/11/2007'}\n",
            "{'apellido': 'Mamani Garrido', 'nombre': 'Rosario Agostina', 'curso': 5, 'division': 'C', 'fecha_de_nacimiento': '24/10/2006'}\n",
            "{'apellido': 'Marinaro', 'nombre': 'Martin Ezequiel', 'curso': 5, 'division': 'C', 'fecha_de_nacimiento': '03/11/2006'}\n",
            "{'apellido': 'Merluzzi Dagum', 'nombre': 'Ignacio', 'curso': 5, 'division': 'C', 'fecha_de_nacimiento': '22/12/2005'}\n",
            "{'apellido': 'Messina', 'nombre': 'Martina', 'curso': 5, 'division': 'C', 'fecha_de_nacimiento': '13/07/2005'}\n",
            "{'apellido': 'Rasuk', 'nombre': 'Karim', 'curso': 5, 'division': 'C', 'fecha_de_nacimiento': '13/07/2007'}\n",
            "{'apellido': 'Rios', 'nombre': 'Lucia Magali', 'curso': 5, 'division': 'C', 'fecha_de_nacimiento': '22/09/2006'}\n",
            "{'apellido': 'Sanchez Flores', 'nombre': 'Matías Agustín', 'curso': 5, 'division': 'C', 'fecha_de_nacimiento': '15/02/2007'}\n",
            "{'apellido': 'Scarano', 'nombre': 'Renato Marcelo', 'curso': 5, 'division': 'C', 'fecha_de_nacimiento': '06/12/2006'}\n",
            "{'apellido': 'Sierra', 'nombre': 'Lucas Mauricio', 'curso': 5, 'division': 'C', 'fecha_de_nacimiento': '03/04/2005'}\n",
            "{'apellido': 'Tapia', 'nombre': 'Martin Gabriel', 'curso': 5, 'division': 'C', 'fecha_de_nacimiento': '30/05/2006'}\n",
            "{'apellido': 'Vilte', 'nombre': 'Mia Antonella Alondra', 'curso': 5, 'division': 'C', 'fecha_de_nacimiento': '10/09/2005'}\n",
            "{'apellido': 'Virgillito', 'nombre': 'Katya Milena', 'curso': 5, 'division': 'C', 'fecha_de_nacimiento': '19/06/2007'}\n",
            "{'apellido': 'Alurralde', 'nombre': 'Solange Stefania', 'curso': 5, 'division': 'D', 'fecha_de_nacimiento': '02/04/2007'}\n",
            "{'apellido': 'Alvarado', 'nombre': 'Ludmila Del Milagro', 'curso': 5, 'division': 'D', 'fecha_de_nacimiento': '06/09/2006'}\n",
            "{'apellido': 'Angel', 'nombre': 'Camila Juliana', 'curso': 5, 'division': 'D', 'fecha_de_nacimiento': '07/03/2007'}\n",
            "{'apellido': 'Arenas', 'nombre': 'Lucas Gabriel', 'curso': 5, 'division': 'D', 'fecha_de_nacimiento': '26/06/2007'}\n",
            "{'apellido': 'Caseres', 'nombre': 'Maria Antonia', 'curso': 5, 'division': 'D', 'fecha_de_nacimiento': '01/07/2006'}\n",
            "{'apellido': 'Castillo', 'nombre': 'Paulina Milagros', 'curso': 5, 'division': 'D', 'fecha_de_nacimiento': '01/06/2007'}\n",
            "{'apellido': 'Correa Segovia', 'nombre': 'Hugo Mariano', 'curso': 5, 'division': 'D', 'fecha_de_nacimiento': '04/12/2006'}\n",
            "{'apellido': 'D Elia', 'nombre': 'Alvaro Tadeo', 'curso': 5, 'division': 'D', 'fecha_de_nacimiento': '27/08/2006'}\n",
            "{'apellido': 'Flores', 'nombre': 'Victoria Agustina', 'curso': 5, 'division': 'D', 'fecha_de_nacimiento': '12/12/2006'}\n",
            "{'apellido': 'Geronimo Soriano', 'nombre': 'Lizzie Amaya', 'curso': 5, 'division': 'D', 'fecha_de_nacimiento': '20/01/2007'}\n",
            "{'apellido': 'Guzman', 'nombre': 'Angélica Morena', 'curso': 5, 'division': 'D', 'fecha_de_nacimiento': '11/04/2007'}\n",
            "{'apellido': 'Guzman', 'nombre': 'Jazmin Esmeralda Belen', 'curso': 5, 'division': 'D', 'fecha_de_nacimiento': '31/07/2006'}\n",
            "{'apellido': 'Jaime', 'nombre': 'Anita Maria Belen', 'curso': 5, 'division': 'D', 'fecha_de_nacimiento': '19/04/2007'}\n",
            "{'apellido': 'Lacour Polo', 'nombre': 'Nazarena', 'curso': 5, 'division': 'D', 'fecha_de_nacimiento': '19/12/2005'}\n",
            "{'apellido': 'Lascano Guanca', 'nombre': 'Marcelo Fabricio', 'curso': 5, 'division': 'D', 'fecha_de_nacimiento': '17/02/2006'}\n",
            "{'apellido': 'Lezcano', 'nombre': 'Celia Morena', 'curso': 5, 'division': 'D', 'fecha_de_nacimiento': '01/07/2005'}\n",
            "{'apellido': 'Martinez', 'nombre': 'Tomas Andres', 'curso': 5, 'division': 'D', 'fecha_de_nacimiento': '22/03/2007'}\n",
            "{'apellido': 'Portella Valdivia', 'nombre': 'Pedro Francisco', 'curso': 5, 'division': 'D', 'fecha_de_nacimiento': '24/01/2007'}\n",
            "{'apellido': 'Retamal Cisneros', 'nombre': 'Zacarias Josue', 'curso': 5, 'division': 'D', 'fecha_de_nacimiento': '24/02/2007'}\n",
            "{'apellido': 'Rosales', 'nombre': 'Francisco Gabriel', 'curso': 5, 'division': 'D', 'fecha_de_nacimiento': '14/11/2006'}\n",
            "{'apellido': 'Salem Barba', 'nombre': 'Mahia', 'curso': 5, 'division': 'D', 'fecha_de_nacimiento': '14/10/2005'}\n",
            "{'apellido': 'Soto Camara', 'nombre': 'Agustin Ignacio', 'curso': 5, 'division': 'D', 'fecha_de_nacimiento': '07/11/2005'}\n",
            "{'apellido': 'Villalba', 'nombre': 'Irina', 'curso': 5, 'division': 'D', 'fecha_de_nacimiento': '09/09/2006'}\n",
            "{'apellido': 'Voltolini', 'nombre': 'Emanuel Tobias', 'curso': 5, 'division': 'D', 'fecha_de_nacimiento': '17/09/2006'}\n",
            "{'apellido': 'Zalazar', 'nombre': 'Santino Stefano', 'curso': 5, 'division': 'D', 'fecha_de_nacimiento': '30/09/2006'}\n"
          ]
        }
      ]
    },
    {
      "cell_type": "markdown",
      "source": [
        "3. Genera un diccionario en python, en donde la clave sea cada nombre que aparece en las listas y el valor será la cantidad de veces que se encuentra el mismo.\n",
        "Para este punto es posible fusionar ambas listas en una sola, recordá que hay un método que realiza esta acción.\n",
        "\n",
        "Mostrá la informacion generada"
      ],
      "metadata": {
        "id": "UW2dlBsGMAte"
      }
    },
    {
      "cell_type": "code",
      "source": [
        "nombres={}\n",
        "for estudiante in estudiantes:\n",
        "   nombre, division, fecha_nac=estudiante\n",
        "   lista_nombres=nombre.replace(\",\",\"\").split()\n",
        "   for un_nombre in lista_nombres:\n",
        "     if un_nombre in nombres.keys():\n",
        "       nombres[un_nombre] +=1\n",
        "     else:\n",
        "       nombres[un_nombre]=1\n",
        "for   nombre,veces in nombres.items():\n",
        "  print(f\"el nombre {nombre} aparició{veces} veces\")"
      ],
      "metadata": {
        "id": "EawAy4SANtkl",
        "colab": {
          "base_uri": "https://localhost:8080/"
        },
        "outputId": "3830113e-c718-49fc-bdfd-b2cc0d1afe7c"
      },
      "execution_count": 28,
      "outputs": [
        {
          "output_type": "stream",
          "name": "stdout",
          "text": [
            "el nombre Abud aparició1 veces\n",
            "el nombre Laspiur aparició1 veces\n",
            "el nombre Lourdes aparició2 veces\n",
            "el nombre Mariel aparició1 veces\n",
            "el nombre Amador aparició1 veces\n",
            "el nombre Luana aparició1 veces\n",
            "el nombre Micaela aparició1 veces\n",
            "el nombre Anaquin aparició1 veces\n",
            "el nombre Leonardo aparició1 veces\n",
            "el nombre Ezequiel aparició3 veces\n",
            "el nombre Araoz aparició1 veces\n",
            "el nombre Sanchez aparició2 veces\n",
            "el nombre Lautaro aparició1 veces\n",
            "el nombre Nahuel aparició1 veces\n",
            "el nombre Argañaraz aparició1 veces\n",
            "el nombre Agostina aparició2 veces\n",
            "el nombre Abril aparició1 veces\n",
            "el nombre Barrera aparició1 veces\n",
            "el nombre Matias aparició1 veces\n",
            "el nombre Barrozo aparició1 veces\n",
            "el nombre Vedia aparició1 veces\n",
            "el nombre Joaquin aparició1 veces\n",
            "el nombre Nicolas aparició1 veces\n",
            "el nombre Bettinelli aparició1 veces\n",
            "el nombre Valentino aparició1 veces\n",
            "el nombre Bracamonte aparició1 veces\n",
            "el nombre Martinez aparició2 veces\n",
            "el nombre Salvador aparició1 veces\n",
            "el nombre Colque aparició1 veces\n",
            "el nombre Rivero aparició1 veces\n",
            "el nombre Ariana aparició1 veces\n",
            "el nombre Zoe aparició1 veces\n",
            "el nombre Del aparició2 veces\n",
            "el nombre Valle aparició1 veces\n",
            "el nombre Diaz aparició1 veces\n",
            "el nombre Dulce aparició1 veces\n",
            "el nombre Maitena aparició1 veces\n",
            "el nombre Figueroa aparició1 veces\n",
            "el nombre Santino aparició2 veces\n",
            "el nombre Josue aparició2 veces\n",
            "el nombre Flores aparició3 veces\n",
            "el nombre Cardozo aparició1 veces\n",
            "el nombre Agustina aparició2 veces\n",
            "el nombre Tiara aparició1 veces\n",
            "el nombre Gallo aparició1 veces\n",
            "el nombre Octavio aparició1 veces\n",
            "el nombre Ismael aparició1 veces\n",
            "el nombre Galvan aparició1 veces\n",
            "el nombre Yamila aparició1 veces\n",
            "el nombre Giangreco aparició1 veces\n",
            "el nombre Vitto aparició1 veces\n",
            "el nombre Tomasso aparició1 veces\n",
            "el nombre Grancara aparició1 veces\n",
            "el nombre Martina aparició2 veces\n",
            "el nombre Luna aparició1 veces\n",
            "el nombre Guanca aparició2 veces\n",
            "el nombre Sara aparició1 veces\n",
            "el nombre Elizabeth aparició1 veces\n",
            "el nombre Lopez aparició1 veces\n",
            "el nombre Victoria aparició2 veces\n",
            "el nombre Constanza aparició1 veces\n",
            "el nombre Mamani aparició1 veces\n",
            "el nombre Garrido aparició1 veces\n",
            "el nombre Rosario aparició1 veces\n",
            "el nombre Marinaro aparició1 veces\n",
            "el nombre Martin aparició2 veces\n",
            "el nombre Merluzzi aparició1 veces\n",
            "el nombre Dagum aparició1 veces\n",
            "el nombre Ignacio aparició2 veces\n",
            "el nombre Messina aparició1 veces\n",
            "el nombre Rasuk aparició1 veces\n",
            "el nombre Karim aparició1 veces\n",
            "el nombre Rios aparició1 veces\n",
            "el nombre Lucia aparició1 veces\n",
            "el nombre Magali aparició1 veces\n",
            "el nombre Matías aparició1 veces\n",
            "el nombre Agustín aparició1 veces\n",
            "el nombre Scarano aparició1 veces\n",
            "el nombre Renato aparició1 veces\n",
            "el nombre Marcelo aparició2 veces\n",
            "el nombre Sierra aparició1 veces\n",
            "el nombre Lucas aparició2 veces\n",
            "el nombre Mauricio aparició1 veces\n",
            "el nombre Tapia aparició1 veces\n",
            "el nombre Gabriel aparició3 veces\n",
            "el nombre Vilte aparició1 veces\n",
            "el nombre Mia aparició1 veces\n",
            "el nombre Antonella aparició1 veces\n",
            "el nombre Alondra aparició1 veces\n",
            "el nombre Virgillito aparició1 veces\n",
            "el nombre Katya aparició1 veces\n",
            "el nombre Milena aparició1 veces\n",
            "el nombre Alurralde aparició1 veces\n",
            "el nombre Solange aparició1 veces\n",
            "el nombre Stefania aparició1 veces\n",
            "el nombre Alvarado aparició1 veces\n",
            "el nombre Ludmila aparició1 veces\n",
            "el nombre Milagro aparició1 veces\n",
            "el nombre Angel aparició1 veces\n",
            "el nombre Camila aparició1 veces\n",
            "el nombre Juliana aparició1 veces\n",
            "el nombre Arenas aparició1 veces\n",
            "el nombre Caseres aparició1 veces\n",
            "el nombre Maria aparició2 veces\n",
            "el nombre Antonia aparició1 veces\n",
            "el nombre Castillo aparició1 veces\n",
            "el nombre Paulina aparició1 veces\n",
            "el nombre Milagros aparició1 veces\n",
            "el nombre Correa aparició1 veces\n",
            "el nombre Segovia aparició1 veces\n",
            "el nombre Hugo aparició1 veces\n",
            "el nombre Mariano aparició1 veces\n",
            "el nombre D aparició1 veces\n",
            "el nombre Elia aparició1 veces\n",
            "el nombre Alvaro aparició1 veces\n",
            "el nombre Tadeo aparició1 veces\n",
            "el nombre Geronimo aparició1 veces\n",
            "el nombre Soriano aparició1 veces\n",
            "el nombre Lizzie aparició1 veces\n",
            "el nombre Amaya aparició1 veces\n",
            "el nombre Guzman aparició2 veces\n",
            "el nombre Angélica aparició1 veces\n",
            "el nombre Morena aparició2 veces\n",
            "el nombre Jazmin aparició1 veces\n",
            "el nombre Esmeralda aparició1 veces\n",
            "el nombre Belen aparició2 veces\n",
            "el nombre Jaime aparició1 veces\n",
            "el nombre Anita aparició1 veces\n",
            "el nombre Lacour aparició1 veces\n",
            "el nombre Polo aparició1 veces\n",
            "el nombre Nazarena aparició1 veces\n",
            "el nombre Lascano aparició1 veces\n",
            "el nombre Fabricio aparició1 veces\n",
            "el nombre Lezcano aparició1 veces\n",
            "el nombre Celia aparició1 veces\n",
            "el nombre Tomas aparició1 veces\n",
            "el nombre Andres aparició1 veces\n",
            "el nombre Portella aparició1 veces\n",
            "el nombre Valdivia aparició1 veces\n",
            "el nombre Pedro aparició1 veces\n",
            "el nombre Francisco aparició2 veces\n",
            "el nombre Retamal aparició1 veces\n",
            "el nombre Cisneros aparició1 veces\n",
            "el nombre Zacarias aparició1 veces\n",
            "el nombre Rosales aparició1 veces\n",
            "el nombre Salem aparició1 veces\n",
            "el nombre Barba aparició1 veces\n",
            "el nombre Mahia aparició1 veces\n",
            "el nombre Soto aparició1 veces\n",
            "el nombre Camara aparició1 veces\n",
            "el nombre Agustin aparició1 veces\n",
            "el nombre Villalba aparició1 veces\n",
            "el nombre Irina aparició1 veces\n",
            "el nombre Voltolini aparició1 veces\n",
            "el nombre Emanuel aparició1 veces\n",
            "el nombre Tobias aparició1 veces\n",
            "el nombre Zalazar aparició1 veces\n",
            "el nombre Stefano aparició1 veces\n"
          ]
        }
      ]
    },
    {
      "cell_type": "markdown",
      "source": [
        "4. Genera un diccionario en python, en donde la clave sea cada apellido que aparece en las listas y el valor será la cantidad de veces que se encuentra el mismo.\n",
        "Para este punto es posible fusionar ambas listas en una sola, recordá que hay un método que realiza esta acción."
      ],
      "metadata": {
        "id": "kZeEHUYVNwGV"
      }
    },
    {
      "cell_type": "code",
      "source": [],
      "metadata": {
        "id": "q05GnxXgORzt"
      },
      "execution_count": null,
      "outputs": []
    },
    {
      "cell_type": "markdown",
      "source": [
        "5. Solicita al usuario que ingrese un apellido y muestra  a todos los estudiantes con ese apellido."
      ],
      "metadata": {
        "id": "ywYmA2JQNp3T"
      }
    },
    {
      "cell_type": "code",
      "source": [
        "apellido = input(\"Ingrese un apellido: \").title()\n",
        "for estudiante in lista_diccionarios:\n",
        "  if apellido in estudiante[\"apellido\"]:\n",
        "    print(estudiante)"
      ],
      "metadata": {
        "id": "Cnp334ZrOCjK",
        "colab": {
          "base_uri": "https://localhost:8080/"
        },
        "outputId": "eb691872-671e-4956-8a37-661a9a37e063"
      },
      "execution_count": 41,
      "outputs": [
        {
          "output_type": "stream",
          "name": "stdout",
          "text": [
            "Ingrese un apellido: villalba\n",
            "{'apellido': 'Villalba', 'nombre': 'Irina', 'curso': 5, 'division': 'D', 'fecha_de_nacimiento': '09/09/2006'}\n"
          ]
        }
      ]
    },
    {
      "cell_type": "markdown",
      "source": [
        "6. Solicita al usuario que ingrese un nombre y muestra a todos los estudiantes con el nombre ingresado."
      ],
      "metadata": {
        "id": "iAXts6saODoU"
      }
    },
    {
      "cell_type": "code",
      "source": [
        "pass"
      ],
      "metadata": {
        "id": "FMRsUlvtOJS_"
      },
      "execution_count": null,
      "outputs": []
    },
    {
      "cell_type": "markdown",
      "source": [
        "7. Busca el diccionario con tu información dentro de la lista y cámbiate de división, de tal manera que si estas en 5C, con el cambio quedes en 5D y viceversa."
      ],
      "metadata": {
        "id": "T4PFiwwdOK27"
      }
    },
    {
      "cell_type": "code",
      "source": [
        "pass"
      ],
      "metadata": {
        "id": "vjQ2X9x3OmFr"
      },
      "execution_count": null,
      "outputs": []
    },
    {
      "cell_type": "markdown",
      "source": [
        "8. Ordenar la lista alfabeticamente por nombre. Ascendente y descendentemente. Para elegir como ordenarla, mostrar un menú donde el usuario podrá decidir como quiere ver la salida."
      ],
      "metadata": {
        "id": "xfy8SFlZRVGf"
      }
    },
    {
      "cell_type": "code",
      "source": [],
      "metadata": {
        "id": "E4Onk1FNRUa2"
      },
      "execution_count": null,
      "outputs": []
    },
    {
      "cell_type": "markdown",
      "source": [
        "9. Ordenar la lista alfabeticamente por apellido. Ascendente y descendentemente. Para elegir como ordenarla, mostrar un menú donde el usuario podrá decidir como quiere ver la salida."
      ],
      "metadata": {
        "id": "lW18NgPjRcGP"
      }
    },
    {
      "cell_type": "code",
      "source": [],
      "metadata": {
        "id": "jTtWBnalRcoC"
      },
      "execution_count": null,
      "outputs": []
    },
    {
      "cell_type": "markdown",
      "source": [
        "10. Ordena la lista por fecha de nacimiento, de manera ascendente y descendente."
      ],
      "metadata": {
        "id": "E24lH7x5Xbur"
      }
    },
    {
      "cell_type": "code",
      "source": [],
      "metadata": {
        "id": "9SeI3GBGXims"
      },
      "execution_count": null,
      "outputs": []
    },
    {
      "cell_type": "markdown",
      "source": [
        "11. Generar una estuctura de diccionario anidado en donde la clave sea el nombre del estudiante y el valor sea un diccionario con los datos del mismo, de la siguiente manera:\n",
        "\n",
        "\n",
        "\n",
        "\n",
        "```python\n",
        "estudiantes = {\n",
        "    \"Juan Perez\": {\n",
        "        \"año\": 2024,\n",
        "        \"división\": \"5D\",\n",
        "        \"fecha de nacimiento\": \"15/03/2006\"\n",
        "    },\n",
        "    \"Maria Gomez\": {\n",
        "        \"año\": 2024,\n",
        "        \"división\": \"5D\",\n",
        "        \"fecha de nacimiento\": \"22/07/2006\"\n",
        "    },\n",
        "    \"Carlos Lopez\": {\n",
        "        \"año\": 2024,\n",
        "        \"división\": \"5D\",\n",
        "        \"fecha de nacimiento\": \"05/10/2006\"\n",
        "    }\n",
        "}\n",
        "```\n",
        "\n",
        "\n",
        "\n",
        "\n"
      ],
      "metadata": {
        "id": "vOY6K_ydRc3Q"
      }
    },
    {
      "cell_type": "code",
      "source": [],
      "metadata": {
        "id": "9JDrd3WqRdTi"
      },
      "execution_count": null,
      "outputs": []
    }
  ]
}